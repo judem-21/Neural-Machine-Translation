{
  "nbformat": 4,
  "nbformat_minor": 0,
  "metadata": {
    "colab": {
      "provenance": [],
      "collapsed_sections": [
        "rF7XsLNXhz7V",
        "EpWRmxNq7Sos"
      ],
      "gpuType": "T4",
      "authorship_tag": "ABX9TyNmP8fIgl5uO4rtd7Dm7w7k",
      "include_colab_link": true
    },
    "kernelspec": {
      "name": "python3",
      "display_name": "Python 3"
    },
    "language_info": {
      "name": "python"
    },
    "accelerator": "GPU"
  },
  "cells": [
    {
      "cell_type": "markdown",
      "metadata": {
        "id": "view-in-github",
        "colab_type": "text"
      },
      "source": [
        "<a href=\"https://colab.research.google.com/github/judem-21/Seq2Seq-Model/blob/main/Seq2Seq_Attention.ipynb\" target=\"_parent\"><img src=\"https://colab.research.google.com/assets/colab-badge.svg\" alt=\"Open In Colab\"/></a>"
      ]
    },
    {
      "cell_type": "markdown",
      "metadata": {
        "id": "u1PolMPZOEbE"
      },
      "source": [
        "#Seq2Seq Model"
      ]
    },
    {
      "cell_type": "markdown",
      "metadata": {
        "id": "rF7XsLNXhz7V"
      },
      "source": [
        "###Importing Libraries"
      ]
    },
    {
      "cell_type": "code",
      "execution_count": 1,
      "metadata": {
        "id": "me-hNcwXhajQ"
      },
      "outputs": [],
      "source": [
        "import torch,torchvision\n",
        "from torch.utils.data import Dataset,DataLoader\n",
        "from torch.utils.tensorboard import SummaryWriter\n",
        "from torch.nn.utils.rnn import pad_sequence\n",
        "import torch.nn as nn\n",
        "from torchvision import transforms as transforms\n",
        "#from torch.torchmetrics.text.bleu import BLEUScore"
      ]
    },
    {
      "cell_type": "code",
      "execution_count": 2,
      "metadata": {
        "id": "QrDUgehUhzUU"
      },
      "outputs": [],
      "source": [
        "import os\n",
        "import pandas as pd\n",
        "from skimage import io\n",
        "import spacy\n",
        "from PIL import Image\n",
        "import random\n",
        "import matplotlib.pyplot as plt\n",
        "import numpy as np\n",
        "import pandas as pd"
      ]
    },
    {
      "cell_type": "code",
      "source": [
        "!python -m spacy download en\n",
        "!python -m spacy download de_core_news_sm\n",
        "spacy_eng = spacy.load(\"en_core_web_sm\")\n",
        "spacy_ger = spacy.load(\"de_core_news_sm\")"
      ],
      "metadata": {
        "colab": {
          "base_uri": "https://localhost:8080/"
        },
        "id": "EsuiniKF8YTK",
        "outputId": "e6e0cbfd-a835-4019-a282-3b580c7ebfe4"
      },
      "execution_count": 3,
      "outputs": [
        {
          "output_type": "stream",
          "name": "stdout",
          "text": [
            "\u001b[38;5;3m⚠ As of spaCy v3.0, shortcuts like 'en' are deprecated. Please use the\n",
            "full pipeline package name 'en_core_web_sm' instead.\u001b[0m\n",
            "Collecting en-core-web-sm==3.7.1\n",
            "  Downloading https://github.com/explosion/spacy-models/releases/download/en_core_web_sm-3.7.1/en_core_web_sm-3.7.1-py3-none-any.whl (12.8 MB)\n",
            "\u001b[2K     \u001b[90m━━━━━━━━━━━━━━━━━━━━━━━━━━━━━━━━━━━━━━━━\u001b[0m \u001b[32m12.8/12.8 MB\u001b[0m \u001b[31m12.3 MB/s\u001b[0m eta \u001b[36m0:00:00\u001b[0m\n",
            "\u001b[?25hRequirement already satisfied: spacy<3.8.0,>=3.7.2 in /usr/local/lib/python3.11/dist-packages (from en-core-web-sm==3.7.1) (3.7.5)\n",
            "Requirement already satisfied: spacy-legacy<3.1.0,>=3.0.11 in /usr/local/lib/python3.11/dist-packages (from spacy<3.8.0,>=3.7.2->en-core-web-sm==3.7.1) (3.0.12)\n",
            "Requirement already satisfied: spacy-loggers<2.0.0,>=1.0.0 in /usr/local/lib/python3.11/dist-packages (from spacy<3.8.0,>=3.7.2->en-core-web-sm==3.7.1) (1.0.5)\n",
            "Requirement already satisfied: murmurhash<1.1.0,>=0.28.0 in /usr/local/lib/python3.11/dist-packages (from spacy<3.8.0,>=3.7.2->en-core-web-sm==3.7.1) (1.0.12)\n",
            "Requirement already satisfied: cymem<2.1.0,>=2.0.2 in /usr/local/lib/python3.11/dist-packages (from spacy<3.8.0,>=3.7.2->en-core-web-sm==3.7.1) (2.0.11)\n",
            "Requirement already satisfied: preshed<3.1.0,>=3.0.2 in /usr/local/lib/python3.11/dist-packages (from spacy<3.8.0,>=3.7.2->en-core-web-sm==3.7.1) (3.0.9)\n",
            "Requirement already satisfied: thinc<8.3.0,>=8.2.2 in /usr/local/lib/python3.11/dist-packages (from spacy<3.8.0,>=3.7.2->en-core-web-sm==3.7.1) (8.2.5)\n",
            "Requirement already satisfied: wasabi<1.2.0,>=0.9.1 in /usr/local/lib/python3.11/dist-packages (from spacy<3.8.0,>=3.7.2->en-core-web-sm==3.7.1) (1.1.3)\n",
            "Requirement already satisfied: srsly<3.0.0,>=2.4.3 in /usr/local/lib/python3.11/dist-packages (from spacy<3.8.0,>=3.7.2->en-core-web-sm==3.7.1) (2.5.1)\n",
            "Requirement already satisfied: catalogue<2.1.0,>=2.0.6 in /usr/local/lib/python3.11/dist-packages (from spacy<3.8.0,>=3.7.2->en-core-web-sm==3.7.1) (2.0.10)\n",
            "Requirement already satisfied: weasel<0.5.0,>=0.1.0 in /usr/local/lib/python3.11/dist-packages (from spacy<3.8.0,>=3.7.2->en-core-web-sm==3.7.1) (0.4.1)\n",
            "Requirement already satisfied: typer<1.0.0,>=0.3.0 in /usr/local/lib/python3.11/dist-packages (from spacy<3.8.0,>=3.7.2->en-core-web-sm==3.7.1) (0.15.1)\n",
            "Requirement already satisfied: tqdm<5.0.0,>=4.38.0 in /usr/local/lib/python3.11/dist-packages (from spacy<3.8.0,>=3.7.2->en-core-web-sm==3.7.1) (4.67.1)\n",
            "Requirement already satisfied: requests<3.0.0,>=2.13.0 in /usr/local/lib/python3.11/dist-packages (from spacy<3.8.0,>=3.7.2->en-core-web-sm==3.7.1) (2.32.3)\n",
            "Requirement already satisfied: pydantic!=1.8,!=1.8.1,<3.0.0,>=1.7.4 in /usr/local/lib/python3.11/dist-packages (from spacy<3.8.0,>=3.7.2->en-core-web-sm==3.7.1) (2.10.5)\n",
            "Requirement already satisfied: jinja2 in /usr/local/lib/python3.11/dist-packages (from spacy<3.8.0,>=3.7.2->en-core-web-sm==3.7.1) (3.1.5)\n",
            "Requirement already satisfied: setuptools in /usr/local/lib/python3.11/dist-packages (from spacy<3.8.0,>=3.7.2->en-core-web-sm==3.7.1) (75.1.0)\n",
            "Requirement already satisfied: packaging>=20.0 in /usr/local/lib/python3.11/dist-packages (from spacy<3.8.0,>=3.7.2->en-core-web-sm==3.7.1) (24.2)\n",
            "Requirement already satisfied: langcodes<4.0.0,>=3.2.0 in /usr/local/lib/python3.11/dist-packages (from spacy<3.8.0,>=3.7.2->en-core-web-sm==3.7.1) (3.5.0)\n",
            "Requirement already satisfied: numpy>=1.19.0 in /usr/local/lib/python3.11/dist-packages (from spacy<3.8.0,>=3.7.2->en-core-web-sm==3.7.1) (1.26.4)\n",
            "Requirement already satisfied: language-data>=1.2 in /usr/local/lib/python3.11/dist-packages (from langcodes<4.0.0,>=3.2.0->spacy<3.8.0,>=3.7.2->en-core-web-sm==3.7.1) (1.3.0)\n",
            "Requirement already satisfied: annotated-types>=0.6.0 in /usr/local/lib/python3.11/dist-packages (from pydantic!=1.8,!=1.8.1,<3.0.0,>=1.7.4->spacy<3.8.0,>=3.7.2->en-core-web-sm==3.7.1) (0.7.0)\n",
            "Requirement already satisfied: pydantic-core==2.27.2 in /usr/local/lib/python3.11/dist-packages (from pydantic!=1.8,!=1.8.1,<3.0.0,>=1.7.4->spacy<3.8.0,>=3.7.2->en-core-web-sm==3.7.1) (2.27.2)\n",
            "Requirement already satisfied: typing-extensions>=4.12.2 in /usr/local/lib/python3.11/dist-packages (from pydantic!=1.8,!=1.8.1,<3.0.0,>=1.7.4->spacy<3.8.0,>=3.7.2->en-core-web-sm==3.7.1) (4.12.2)\n",
            "Requirement already satisfied: charset-normalizer<4,>=2 in /usr/local/lib/python3.11/dist-packages (from requests<3.0.0,>=2.13.0->spacy<3.8.0,>=3.7.2->en-core-web-sm==3.7.1) (3.4.1)\n",
            "Requirement already satisfied: idna<4,>=2.5 in /usr/local/lib/python3.11/dist-packages (from requests<3.0.0,>=2.13.0->spacy<3.8.0,>=3.7.2->en-core-web-sm==3.7.1) (3.10)\n",
            "Requirement already satisfied: urllib3<3,>=1.21.1 in /usr/local/lib/python3.11/dist-packages (from requests<3.0.0,>=2.13.0->spacy<3.8.0,>=3.7.2->en-core-web-sm==3.7.1) (2.3.0)\n",
            "Requirement already satisfied: certifi>=2017.4.17 in /usr/local/lib/python3.11/dist-packages (from requests<3.0.0,>=2.13.0->spacy<3.8.0,>=3.7.2->en-core-web-sm==3.7.1) (2024.12.14)\n",
            "Requirement already satisfied: blis<0.8.0,>=0.7.8 in /usr/local/lib/python3.11/dist-packages (from thinc<8.3.0,>=8.2.2->spacy<3.8.0,>=3.7.2->en-core-web-sm==3.7.1) (0.7.11)\n",
            "Requirement already satisfied: confection<1.0.0,>=0.0.1 in /usr/local/lib/python3.11/dist-packages (from thinc<8.3.0,>=8.2.2->spacy<3.8.0,>=3.7.2->en-core-web-sm==3.7.1) (0.1.5)\n",
            "Requirement already satisfied: click>=8.0.0 in /usr/local/lib/python3.11/dist-packages (from typer<1.0.0,>=0.3.0->spacy<3.8.0,>=3.7.2->en-core-web-sm==3.7.1) (8.1.8)\n",
            "Requirement already satisfied: shellingham>=1.3.0 in /usr/local/lib/python3.11/dist-packages (from typer<1.0.0,>=0.3.0->spacy<3.8.0,>=3.7.2->en-core-web-sm==3.7.1) (1.5.4)\n",
            "Requirement already satisfied: rich>=10.11.0 in /usr/local/lib/python3.11/dist-packages (from typer<1.0.0,>=0.3.0->spacy<3.8.0,>=3.7.2->en-core-web-sm==3.7.1) (13.9.4)\n",
            "Requirement already satisfied: cloudpathlib<1.0.0,>=0.7.0 in /usr/local/lib/python3.11/dist-packages (from weasel<0.5.0,>=0.1.0->spacy<3.8.0,>=3.7.2->en-core-web-sm==3.7.1) (0.20.0)\n",
            "Requirement already satisfied: smart-open<8.0.0,>=5.2.1 in /usr/local/lib/python3.11/dist-packages (from weasel<0.5.0,>=0.1.0->spacy<3.8.0,>=3.7.2->en-core-web-sm==3.7.1) (7.1.0)\n",
            "Requirement already satisfied: MarkupSafe>=2.0 in /usr/local/lib/python3.11/dist-packages (from jinja2->spacy<3.8.0,>=3.7.2->en-core-web-sm==3.7.1) (3.0.2)\n",
            "Requirement already satisfied: marisa-trie>=1.1.0 in /usr/local/lib/python3.11/dist-packages (from language-data>=1.2->langcodes<4.0.0,>=3.2.0->spacy<3.8.0,>=3.7.2->en-core-web-sm==3.7.1) (1.2.1)\n",
            "Requirement already satisfied: markdown-it-py>=2.2.0 in /usr/local/lib/python3.11/dist-packages (from rich>=10.11.0->typer<1.0.0,>=0.3.0->spacy<3.8.0,>=3.7.2->en-core-web-sm==3.7.1) (3.0.0)\n",
            "Requirement already satisfied: pygments<3.0.0,>=2.13.0 in /usr/local/lib/python3.11/dist-packages (from rich>=10.11.0->typer<1.0.0,>=0.3.0->spacy<3.8.0,>=3.7.2->en-core-web-sm==3.7.1) (2.18.0)\n",
            "Requirement already satisfied: wrapt in /usr/local/lib/python3.11/dist-packages (from smart-open<8.0.0,>=5.2.1->weasel<0.5.0,>=0.1.0->spacy<3.8.0,>=3.7.2->en-core-web-sm==3.7.1) (1.17.2)\n",
            "Requirement already satisfied: mdurl~=0.1 in /usr/local/lib/python3.11/dist-packages (from markdown-it-py>=2.2.0->rich>=10.11.0->typer<1.0.0,>=0.3.0->spacy<3.8.0,>=3.7.2->en-core-web-sm==3.7.1) (0.1.2)\n",
            "\u001b[38;5;2m✔ Download and installation successful\u001b[0m\n",
            "You can now load the package via spacy.load('en_core_web_sm')\n",
            "\u001b[38;5;3m⚠ Restart to reload dependencies\u001b[0m\n",
            "If you are in a Jupyter or Colab notebook, you may need to restart Python in\n",
            "order to load all the package's dependencies. You can do this by selecting the\n",
            "'Restart kernel' or 'Restart runtime' option.\n",
            "Collecting de-core-news-sm==3.7.0\n",
            "  Downloading https://github.com/explosion/spacy-models/releases/download/de_core_news_sm-3.7.0/de_core_news_sm-3.7.0-py3-none-any.whl (14.6 MB)\n",
            "\u001b[2K     \u001b[90m━━━━━━━━━━━━━━━━━━━━━━━━━━━━━━━━━━━━━━━━\u001b[0m \u001b[32m14.6/14.6 MB\u001b[0m \u001b[31m29.3 MB/s\u001b[0m eta \u001b[36m0:00:00\u001b[0m\n",
            "\u001b[?25hRequirement already satisfied: spacy<3.8.0,>=3.7.0 in /usr/local/lib/python3.11/dist-packages (from de-core-news-sm==3.7.0) (3.7.5)\n",
            "Requirement already satisfied: spacy-legacy<3.1.0,>=3.0.11 in /usr/local/lib/python3.11/dist-packages (from spacy<3.8.0,>=3.7.0->de-core-news-sm==3.7.0) (3.0.12)\n",
            "Requirement already satisfied: spacy-loggers<2.0.0,>=1.0.0 in /usr/local/lib/python3.11/dist-packages (from spacy<3.8.0,>=3.7.0->de-core-news-sm==3.7.0) (1.0.5)\n",
            "Requirement already satisfied: murmurhash<1.1.0,>=0.28.0 in /usr/local/lib/python3.11/dist-packages (from spacy<3.8.0,>=3.7.0->de-core-news-sm==3.7.0) (1.0.12)\n",
            "Requirement already satisfied: cymem<2.1.0,>=2.0.2 in /usr/local/lib/python3.11/dist-packages (from spacy<3.8.0,>=3.7.0->de-core-news-sm==3.7.0) (2.0.11)\n",
            "Requirement already satisfied: preshed<3.1.0,>=3.0.2 in /usr/local/lib/python3.11/dist-packages (from spacy<3.8.0,>=3.7.0->de-core-news-sm==3.7.0) (3.0.9)\n",
            "Requirement already satisfied: thinc<8.3.0,>=8.2.2 in /usr/local/lib/python3.11/dist-packages (from spacy<3.8.0,>=3.7.0->de-core-news-sm==3.7.0) (8.2.5)\n",
            "Requirement already satisfied: wasabi<1.2.0,>=0.9.1 in /usr/local/lib/python3.11/dist-packages (from spacy<3.8.0,>=3.7.0->de-core-news-sm==3.7.0) (1.1.3)\n",
            "Requirement already satisfied: srsly<3.0.0,>=2.4.3 in /usr/local/lib/python3.11/dist-packages (from spacy<3.8.0,>=3.7.0->de-core-news-sm==3.7.0) (2.5.1)\n",
            "Requirement already satisfied: catalogue<2.1.0,>=2.0.6 in /usr/local/lib/python3.11/dist-packages (from spacy<3.8.0,>=3.7.0->de-core-news-sm==3.7.0) (2.0.10)\n",
            "Requirement already satisfied: weasel<0.5.0,>=0.1.0 in /usr/local/lib/python3.11/dist-packages (from spacy<3.8.0,>=3.7.0->de-core-news-sm==3.7.0) (0.4.1)\n",
            "Requirement already satisfied: typer<1.0.0,>=0.3.0 in /usr/local/lib/python3.11/dist-packages (from spacy<3.8.0,>=3.7.0->de-core-news-sm==3.7.0) (0.15.1)\n",
            "Requirement already satisfied: tqdm<5.0.0,>=4.38.0 in /usr/local/lib/python3.11/dist-packages (from spacy<3.8.0,>=3.7.0->de-core-news-sm==3.7.0) (4.67.1)\n",
            "Requirement already satisfied: requests<3.0.0,>=2.13.0 in /usr/local/lib/python3.11/dist-packages (from spacy<3.8.0,>=3.7.0->de-core-news-sm==3.7.0) (2.32.3)\n",
            "Requirement already satisfied: pydantic!=1.8,!=1.8.1,<3.0.0,>=1.7.4 in /usr/local/lib/python3.11/dist-packages (from spacy<3.8.0,>=3.7.0->de-core-news-sm==3.7.0) (2.10.5)\n",
            "Requirement already satisfied: jinja2 in /usr/local/lib/python3.11/dist-packages (from spacy<3.8.0,>=3.7.0->de-core-news-sm==3.7.0) (3.1.5)\n",
            "Requirement already satisfied: setuptools in /usr/local/lib/python3.11/dist-packages (from spacy<3.8.0,>=3.7.0->de-core-news-sm==3.7.0) (75.1.0)\n",
            "Requirement already satisfied: packaging>=20.0 in /usr/local/lib/python3.11/dist-packages (from spacy<3.8.0,>=3.7.0->de-core-news-sm==3.7.0) (24.2)\n",
            "Requirement already satisfied: langcodes<4.0.0,>=3.2.0 in /usr/local/lib/python3.11/dist-packages (from spacy<3.8.0,>=3.7.0->de-core-news-sm==3.7.0) (3.5.0)\n",
            "Requirement already satisfied: numpy>=1.19.0 in /usr/local/lib/python3.11/dist-packages (from spacy<3.8.0,>=3.7.0->de-core-news-sm==3.7.0) (1.26.4)\n",
            "Requirement already satisfied: language-data>=1.2 in /usr/local/lib/python3.11/dist-packages (from langcodes<4.0.0,>=3.2.0->spacy<3.8.0,>=3.7.0->de-core-news-sm==3.7.0) (1.3.0)\n",
            "Requirement already satisfied: annotated-types>=0.6.0 in /usr/local/lib/python3.11/dist-packages (from pydantic!=1.8,!=1.8.1,<3.0.0,>=1.7.4->spacy<3.8.0,>=3.7.0->de-core-news-sm==3.7.0) (0.7.0)\n",
            "Requirement already satisfied: pydantic-core==2.27.2 in /usr/local/lib/python3.11/dist-packages (from pydantic!=1.8,!=1.8.1,<3.0.0,>=1.7.4->spacy<3.8.0,>=3.7.0->de-core-news-sm==3.7.0) (2.27.2)\n",
            "Requirement already satisfied: typing-extensions>=4.12.2 in /usr/local/lib/python3.11/dist-packages (from pydantic!=1.8,!=1.8.1,<3.0.0,>=1.7.4->spacy<3.8.0,>=3.7.0->de-core-news-sm==3.7.0) (4.12.2)\n",
            "Requirement already satisfied: charset-normalizer<4,>=2 in /usr/local/lib/python3.11/dist-packages (from requests<3.0.0,>=2.13.0->spacy<3.8.0,>=3.7.0->de-core-news-sm==3.7.0) (3.4.1)\n",
            "Requirement already satisfied: idna<4,>=2.5 in /usr/local/lib/python3.11/dist-packages (from requests<3.0.0,>=2.13.0->spacy<3.8.0,>=3.7.0->de-core-news-sm==3.7.0) (3.10)\n",
            "Requirement already satisfied: urllib3<3,>=1.21.1 in /usr/local/lib/python3.11/dist-packages (from requests<3.0.0,>=2.13.0->spacy<3.8.0,>=3.7.0->de-core-news-sm==3.7.0) (2.3.0)\n",
            "Requirement already satisfied: certifi>=2017.4.17 in /usr/local/lib/python3.11/dist-packages (from requests<3.0.0,>=2.13.0->spacy<3.8.0,>=3.7.0->de-core-news-sm==3.7.0) (2024.12.14)\n",
            "Requirement already satisfied: blis<0.8.0,>=0.7.8 in /usr/local/lib/python3.11/dist-packages (from thinc<8.3.0,>=8.2.2->spacy<3.8.0,>=3.7.0->de-core-news-sm==3.7.0) (0.7.11)\n",
            "Requirement already satisfied: confection<1.0.0,>=0.0.1 in /usr/local/lib/python3.11/dist-packages (from thinc<8.3.0,>=8.2.2->spacy<3.8.0,>=3.7.0->de-core-news-sm==3.7.0) (0.1.5)\n",
            "Requirement already satisfied: click>=8.0.0 in /usr/local/lib/python3.11/dist-packages (from typer<1.0.0,>=0.3.0->spacy<3.8.0,>=3.7.0->de-core-news-sm==3.7.0) (8.1.8)\n",
            "Requirement already satisfied: shellingham>=1.3.0 in /usr/local/lib/python3.11/dist-packages (from typer<1.0.0,>=0.3.0->spacy<3.8.0,>=3.7.0->de-core-news-sm==3.7.0) (1.5.4)\n",
            "Requirement already satisfied: rich>=10.11.0 in /usr/local/lib/python3.11/dist-packages (from typer<1.0.0,>=0.3.0->spacy<3.8.0,>=3.7.0->de-core-news-sm==3.7.0) (13.9.4)\n",
            "Requirement already satisfied: cloudpathlib<1.0.0,>=0.7.0 in /usr/local/lib/python3.11/dist-packages (from weasel<0.5.0,>=0.1.0->spacy<3.8.0,>=3.7.0->de-core-news-sm==3.7.0) (0.20.0)\n",
            "Requirement already satisfied: smart-open<8.0.0,>=5.2.1 in /usr/local/lib/python3.11/dist-packages (from weasel<0.5.0,>=0.1.0->spacy<3.8.0,>=3.7.0->de-core-news-sm==3.7.0) (7.1.0)\n",
            "Requirement already satisfied: MarkupSafe>=2.0 in /usr/local/lib/python3.11/dist-packages (from jinja2->spacy<3.8.0,>=3.7.0->de-core-news-sm==3.7.0) (3.0.2)\n",
            "Requirement already satisfied: marisa-trie>=1.1.0 in /usr/local/lib/python3.11/dist-packages (from language-data>=1.2->langcodes<4.0.0,>=3.2.0->spacy<3.8.0,>=3.7.0->de-core-news-sm==3.7.0) (1.2.1)\n",
            "Requirement already satisfied: markdown-it-py>=2.2.0 in /usr/local/lib/python3.11/dist-packages (from rich>=10.11.0->typer<1.0.0,>=0.3.0->spacy<3.8.0,>=3.7.0->de-core-news-sm==3.7.0) (3.0.0)\n",
            "Requirement already satisfied: pygments<3.0.0,>=2.13.0 in /usr/local/lib/python3.11/dist-packages (from rich>=10.11.0->typer<1.0.0,>=0.3.0->spacy<3.8.0,>=3.7.0->de-core-news-sm==3.7.0) (2.18.0)\n",
            "Requirement already satisfied: wrapt in /usr/local/lib/python3.11/dist-packages (from smart-open<8.0.0,>=5.2.1->weasel<0.5.0,>=0.1.0->spacy<3.8.0,>=3.7.0->de-core-news-sm==3.7.0) (1.17.2)\n",
            "Requirement already satisfied: mdurl~=0.1 in /usr/local/lib/python3.11/dist-packages (from markdown-it-py>=2.2.0->rich>=10.11.0->typer<1.0.0,>=0.3.0->spacy<3.8.0,>=3.7.0->de-core-news-sm==3.7.0) (0.1.2)\n",
            "Installing collected packages: de-core-news-sm\n",
            "Successfully installed de-core-news-sm-3.7.0\n",
            "\u001b[38;5;2m✔ Download and installation successful\u001b[0m\n",
            "You can now load the package via spacy.load('de_core_news_sm')\n",
            "\u001b[38;5;3m⚠ Restart to reload dependencies\u001b[0m\n",
            "If you are in a Jupyter or Colab notebook, you may need to restart Python in\n",
            "order to load all the package's dependencies. You can do this by selecting the\n",
            "'Restart kernel' or 'Restart runtime' option.\n"
          ]
        }
      ]
    },
    {
      "cell_type": "markdown",
      "metadata": {
        "id": "cyaiSIfV7Soq"
      },
      "source": [
        "###Dataset (Loading and Testing)"
      ]
    },
    {
      "cell_type": "markdown",
      "metadata": {
        "id": "q4s1Vvi77Sor"
      },
      "source": [
        "####Dataset Loading"
      ]
    },
    {
      "cell_type": "code",
      "execution_count": 4,
      "metadata": {
        "colab": {
          "base_uri": "https://localhost:8080/"
        },
        "outputId": "67eaa9d1-876e-42f7-c177-def3e4b4860b",
        "id": "YEyKvSye7Sor"
      },
      "outputs": [
        {
          "output_type": "stream",
          "name": "stdout",
          "text": [
            "Mounted at /content/drive\n"
          ]
        }
      ],
      "source": [
        "from google.colab import drive\n",
        "drive.mount('/content/drive')"
      ]
    },
    {
      "cell_type": "code",
      "execution_count": 5,
      "metadata": {
        "id": "FXpEVIhg7Sor"
      },
      "outputs": [],
      "source": [
        "class Vocabulary:\n",
        "    def __init__(self, freq_threshold=3):\n",
        "        self.itos_source = {0: \"<PAD>\", 1: \"<SOS>\", 2: \"<EOS>\", 3: \"<UNK>\"}\n",
        "        self.stoi_source = {\"<PAD>\": 0, \"<SOS>\": 1, \"<EOS>\": 2, \"<UNK>\": 3}\n",
        "\n",
        "        self.itos_target = {0: \"<PAD>\", 1: \"<SOS>\", 2: \"<EOS>\", 3: \"<UNK>\"}\n",
        "        self.stoi_target = {\"<PAD>\": 0, \"<SOS>\": 1, \"<EOS>\": 2, \"<UNK>\": 3}\n",
        "\n",
        "        self.punctuation_marks = [\n",
        "    '.', ',', ';', ':', '!', '?', '-', '—', '(', ')', '[', ']', '{', '}',\n",
        "    \"'\", '\"', '...', '“', '”', '‘', '’', '/', '\\\\', '|', '@', '#', '$', '%',\n",
        "    '^', '&', '*', '_', '=', '+', '<', '>', '`', '~'\n",
        "]\n",
        "\n",
        "        self.freq_threshold = freq_threshold\n",
        "\n",
        "    def __len__(self):\n",
        "        return len(self.itos)\n",
        "\n",
        "    @staticmethod\n",
        "    def tokenizer(text,key):\n",
        "      if key=='en':\n",
        "        return [tok.text.lower() for tok in spacy_eng.tokenizer(text)]\n",
        "      else:\n",
        "        return [tok.text.lower() for tok in spacy_ger.tokenizer(text)]\n",
        "\n",
        "    def build_vocabulary(self, sentence_list, key):\n",
        "        frequencies = {}\n",
        "        idx = 4\n",
        "\n",
        "        for sentence in sentence_list:\n",
        "          if key=='source': lookup=self.tokenizer(sentence,'de')\n",
        "          else: lookup=self.tokenizer(sentence,'en')\n",
        "\n",
        "          for word in lookup:\n",
        "            if word=='\\n' or word in self.punctuation_marks: continue\n",
        "\n",
        "            if word not in frequencies:\n",
        "              frequencies[word] = 1\n",
        "\n",
        "            else:\n",
        "              frequencies[word] += 1\n",
        "\n",
        "            if frequencies[word] == self.freq_threshold:\n",
        "              if key=='source':\n",
        "                self.stoi_source[word] = idx\n",
        "                self.itos_source[idx] = word\n",
        "              elif key=='target':\n",
        "                self.stoi_target[word] = idx\n",
        "                self.itos_target[idx] = word\n",
        "              idx += 1\n",
        "\n",
        "    def numericalize(self, text,key):\n",
        "        if key=='source':\n",
        "          tokenized_text = self.tokenizer(text,'de')\n",
        "          return [self.stoi_source[token] if token in self.stoi_source else self.stoi_source[\"<UNK>\"] for token in tokenized_text]\n",
        "        elif key=='target':\n",
        "          tokenized_text = self.tokenizer(text,'en')\n",
        "          return [self.stoi_target[token] if token in self.stoi_target else self.stoi_target[\"<UNK>\"] for token in tokenized_text]"
      ]
    },
    {
      "cell_type": "code",
      "execution_count": 6,
      "metadata": {
        "id": "j-lXo9We7Sor"
      },
      "outputs": [],
      "source": [
        "class seq2seq_dataset(Dataset):\n",
        "    def __init__(self, source_file, target_file, num_samples=29000, freq_threshold=3):\n",
        "        #self.source_file = source_file\n",
        "        self.file_target=open(target_file, 'r', encoding='utf-8')\n",
        "        self.file_source=open(source_file, 'r', encoding='utf-8')\n",
        "        self.df = list(zip(self.file_source,self.file_target))[:num_samples]\n",
        "        #print(f'len_dataset:{len(self.df)}')\n",
        "        #self.transform = transform\n",
        "        self.num_samples=num_samples\n",
        "\n",
        "        self.idx_sentences_source= {}\n",
        "        self.idx_sentences_target= {}\n",
        "        #counter=0\n",
        "        for idx,lines in enumerate(self.df):\n",
        "            #if counter==num_samples: break\n",
        "            source_sentence = lines[0]\n",
        "            target_sentence = lines[1]\n",
        "            self.idx_sentences_source[idx]=source_sentence\n",
        "            self.idx_sentences_target[idx]=target_sentence\n",
        "            #if idx==self.num_samples-1: break\n",
        "            #counter+=1\n",
        "\n",
        "        self.vocab = Vocabulary(freq_threshold)\n",
        "        self.vocab.build_vocabulary(self.idx_sentences_source.values(),'source')\n",
        "        self.vocab.build_vocabulary(self.idx_sentences_target.values(),'target')\n",
        "\n",
        "    def __len__(self):\n",
        "        return len(self.idx_sentences_source)\n",
        "\n",
        "    def __getitem__(self, index):\n",
        "        source_sentence = self.idx_sentences_source[index]\n",
        "        target_sentence = self.idx_sentences_target[index]\n",
        "        #selected_caption = self.image_captions[img_id]\n",
        "        #selected_caption = random.choice(captions)\n",
        "\n",
        "        #numericalised source sentence\n",
        "        numericalized_caption_source= [self.vocab.stoi_source[\"<SOS>\"]] + self.vocab.numericalize(source_sentence,key='source') + [self.vocab.stoi_source[\"<EOS>\"]]\n",
        "\n",
        "        #numericalised target sentence\n",
        "        numericalized_caption_target= [self.vocab.stoi_target[\"<SOS>\"]] + self.vocab.numericalize(target_sentence,key='target') + [self.vocab.stoi_target[\"<EOS>\"]]\n",
        "\n",
        "        return torch.tensor(numericalized_caption_source), torch.tensor(numericalized_caption_target)"
      ]
    },
    {
      "cell_type": "code",
      "execution_count": 7,
      "metadata": {
        "id": "N02T118t7Sor"
      },
      "outputs": [],
      "source": [
        "class MyCollate:\n",
        "    def __init__(self, pad_idx):\n",
        "        self.pad_idx = pad_idx\n",
        "\n",
        "    def __call__(self, batch):\n",
        "        sources=[item[0] for item in batch]\n",
        "        sources=pad_sequence(sources, batch_first=False, padding_value=self.pad_idx)\n",
        "        '''imgs = [item[0].unsqueeze(0) for item in batch]\n",
        "        imgs = torch.cat(imgs, dim=0)'''\n",
        "        targets = [item[1] for item in batch]\n",
        "        targets = pad_sequence(targets, batch_first=False, padding_value=self.pad_idx)\n",
        "\n",
        "        return sources, targets"
      ]
    },
    {
      "cell_type": "code",
      "execution_count": 8,
      "metadata": {
        "id": "4NUiacG47Sor"
      },
      "outputs": [],
      "source": [
        "def get_loader(\n",
        "    source_file,\n",
        "    target_file,num_samples=28000,\n",
        "    freq_threshold=2,\n",
        "    batch_size=32,\n",
        "    num_workers=8,\n",
        "    shuffle=True,\n",
        "    pin_memory=True,\n",
        "):\n",
        "    dataset = seq2seq_dataset(source_file, target_file, num_samples=num_samples,freq_threshold=freq_threshold)\n",
        "\n",
        "    pad_idx = dataset.vocab.stoi_source[\"<PAD>\"]\n",
        "\n",
        "    loader = DataLoader(\n",
        "        dataset=dataset,\n",
        "        batch_size=batch_size,\n",
        "        num_workers=num_workers,\n",
        "        shuffle=shuffle,\n",
        "        pin_memory=pin_memory,\n",
        "        collate_fn=MyCollate(pad_idx=pad_idx),\n",
        "    )\n",
        "\n",
        "    return loader, dataset"
      ]
    },
    {
      "cell_type": "markdown",
      "metadata": {
        "id": "EpWRmxNq7Sos"
      },
      "source": [
        "####Dataset Testing"
      ]
    },
    {
      "cell_type": "code",
      "source": [
        "train_loader, dataset = get_loader(dataset_path='/content/drive/MyDrive/Seq2SeqModel/dataset.txt',freq_threshold=2,batch_size=64,num_samples=29768,num_workers=2)"
      ],
      "metadata": {
        "colab": {
          "base_uri": "https://localhost:8080/",
          "height": 141
        },
        "id": "Q2VJ7n4v7Sos",
        "outputId": "85385c10-22f5-4dea-fb0f-57e017d94d7e"
      },
      "execution_count": null,
      "outputs": [
        {
          "output_type": "error",
          "ename": "TypeError",
          "evalue": "get_loader() got an unexpected keyword argument 'dataset_path'",
          "traceback": [
            "\u001b[0;31m---------------------------------------------------------------------------\u001b[0m",
            "\u001b[0;31mTypeError\u001b[0m                                 Traceback (most recent call last)",
            "\u001b[0;32m<ipython-input-9-ba8f67c17250>\u001b[0m in \u001b[0;36m<cell line: 1>\u001b[0;34m()\u001b[0m\n\u001b[0;32m----> 1\u001b[0;31m \u001b[0mtrain_loader\u001b[0m\u001b[0;34m,\u001b[0m \u001b[0mdataset\u001b[0m \u001b[0;34m=\u001b[0m \u001b[0mget_loader\u001b[0m\u001b[0;34m(\u001b[0m\u001b[0mdataset_path\u001b[0m\u001b[0;34m=\u001b[0m\u001b[0;34m'/content/drive/MyDrive/Seq2SeqModel/dataset.txt'\u001b[0m\u001b[0;34m,\u001b[0m\u001b[0mfreq_threshold\u001b[0m\u001b[0;34m=\u001b[0m\u001b[0;36m2\u001b[0m\u001b[0;34m,\u001b[0m\u001b[0mbatch_size\u001b[0m\u001b[0;34m=\u001b[0m\u001b[0;36m64\u001b[0m\u001b[0;34m,\u001b[0m\u001b[0mnum_samples\u001b[0m\u001b[0;34m=\u001b[0m\u001b[0;36m29768\u001b[0m\u001b[0;34m,\u001b[0m\u001b[0mnum_workers\u001b[0m\u001b[0;34m=\u001b[0m\u001b[0;36m2\u001b[0m\u001b[0;34m)\u001b[0m\u001b[0;34m\u001b[0m\u001b[0;34m\u001b[0m\u001b[0m\n\u001b[0m",
            "\u001b[0;31mTypeError\u001b[0m: get_loader() got an unexpected keyword argument 'dataset_path'"
          ]
        }
      ]
    },
    {
      "cell_type": "code",
      "source": [
        "len(dataset)"
      ],
      "metadata": {
        "id": "BdumN_gB7Sos"
      },
      "execution_count": null,
      "outputs": []
    },
    {
      "cell_type": "code",
      "source": [
        "for batch_idx,(sources,targets) in enumerate(train_loader):\n",
        "  break"
      ],
      "metadata": {
        "id": "hB8NSueI7Sos"
      },
      "execution_count": null,
      "outputs": []
    },
    {
      "cell_type": "code",
      "source": [
        "targets.shape"
      ],
      "metadata": {
        "id": "2ToIHQSO7Sos"
      },
      "execution_count": null,
      "outputs": []
    },
    {
      "cell_type": "code",
      "execution_count": null,
      "metadata": {
        "id": "BgmxnExr7Sos"
      },
      "outputs": [],
      "source": [
        "batch_chk_idx=5\n",
        "for batch_idx,(sources,targets) in enumerate(train_loader):\n",
        "  if batch_idx==batch_chk_idx:break\n",
        "print(f'Batch no.: {batch_idx+1}:-')\n",
        "\n",
        "source_sentence=''\n",
        "num_words_source=0\n",
        "chk_idx=8\n",
        "\n",
        "print(f'Sample {chk_idx+1} of Batch {batch_idx+1}')\n",
        "print(f'Source Shape: {sources.shape}')\n",
        "print(f'Target Shape: {targets.shape}')\n",
        "\n",
        "for source_idx in sources[:,chk_idx]:\n",
        "  num_words_source+=1\n",
        "  source_sentence+=dataset.vocab.itos_source[source_idx.item()]+' '\n",
        "\n",
        "target_sentence=''\n",
        "num_words_target=0\n",
        "for target_idx in targets[:,chk_idx]:\n",
        "  num_words_target+=1\n",
        "  target_sentence+=dataset.vocab.itos_target[target_idx.item()]+' '\n",
        "source_sentence=source_sentence[:-1]\n",
        "target_sentence=target_sentence[:-1]\n",
        "\n",
        "print(f'Source Sentence: \"{source_sentence}\" with length: {num_words_source}')\n",
        "print(f'Target Sentence: \"{target_sentence}\" with length: {num_words_target}')"
      ]
    },
    {
      "cell_type": "code",
      "execution_count": null,
      "metadata": {
        "id": "-NvlDns37Sos"
      },
      "outputs": [],
      "source": [
        "file_english = open('/content/drive/MyDrive/Seq2SeqModel/train.en', 'r', encoding='utf-8')\n",
        "file_german = open('/content/drive/MyDrive/Seq2SeqModel/train.de', 'r', encoding='utf-8')\n",
        "all_sentences=list(zip(file_english,file_german))[:28000]\n",
        "for idx,lines in enumerate(all_sentences):\n",
        "  #idx+=1\n",
        "  if (idx+1)%100==0:\n",
        "    print(f'English: {lines[0]}',end='')\n",
        "    print(f'German: {lines[1]}')\n",
        "print(f'\\nThere are {idx+1} santences in total!!')"
      ]
    },
    {
      "cell_type": "code",
      "execution_count": null,
      "metadata": {
        "id": "q5Q8ZhXx7Sos"
      },
      "outputs": [],
      "source": [
        "'\\n' in dataset.vocab.itos_target"
      ]
    },
    {
      "cell_type": "markdown",
      "source": [
        "###Model"
      ],
      "metadata": {
        "id": "UgkHFyQ-7Sos"
      }
    },
    {
      "cell_type": "code",
      "source": [
        "class EncoderRNN(nn.Module):\n",
        "  def __init__(self,input_size,hidden_size,vocab_size,num_layers=1):\n",
        "    super(EncoderRNN,self).__init__()\n",
        "    self.embed=nn.Embedding(num_embeddings=vocab_size,embedding_dim=input_size)\n",
        "    #print(f'num_layers: {num_layers}')\n",
        "    self.lstm=nn.LSTM(input_size=input_size,hidden_size=hidden_size,num_layers=num_layers,bidirectional=True,dropout=0.5)\n",
        "    #self.linear=nn.linear\n",
        "    self.dropout=nn.Dropout(p=0.5)\n",
        "    self.fc_hidden=nn.Linear(in_features=hidden_size*2,out_features=hidden_size)\n",
        "    self.fc_cell=nn.Linear(in_features=hidden_size*2,out_features=hidden_size)\n",
        "    self.layer_norm_enc=nn.LayerNorm(2*hidden_size)\n",
        "    self.layer_norm_hidden=nn.LayerNorm(hidden_size)\n",
        "\n",
        "  def forward(self,source_sentence):\n",
        "    #source_sentence dim: (seq_len,batch)\n",
        "\n",
        "    embeddings=self.dropout(self.embed(source_sentence))\n",
        "    #embeddings dim: (seq_len,batch,input_size)\n",
        "\n",
        "    encoder_states,(hidden_state,cell_state)=self.lstm(embeddings)\n",
        "    #output dim: (seq_len,batch,2*hidden_size)\n",
        "    #hidden_state/cell_state dim: (2,batch,hidden_size)\n",
        "\n",
        "    hidden=self.fc_hidden(torch.cat((hidden_state[0:1],hidden_state[1:2]),dim=2))\n",
        "    cell=self.fc_cell(torch.cat((cell_state[0:1],cell_state[1:2]),dim=2))\n",
        "    #hiden/cell dim: (1,batch,hidden_state)\n",
        "\n",
        "    encoder_states=self.layer_norm_enc(encoder_states)\n",
        "    hidden=self.layer_norm_hidden(hidden)\n",
        "    cell=self.layer_norm_hidden(cell)\n",
        "\n",
        "    return encoder_states,hidden,cell"
      ],
      "metadata": {
        "id": "J5aJWwqN7Sot"
      },
      "execution_count": 9,
      "outputs": []
    },
    {
      "cell_type": "code",
      "source": [
        "class DecoderRNN(nn.Module):\n",
        "  def __init__(self,input_size,hidden_size,vocab_size,num_layers=1):\n",
        "    super(DecoderRNN,self).__init__()\n",
        "    self.embed=nn.Embedding(num_embeddings=vocab_size,embedding_dim=input_size)\n",
        "    #print(f'num_layers: {num_layers}')\n",
        "    self.energy=nn.Linear(in_features=3*hidden_size,out_features=1)\n",
        "    self.softmax=nn.Softmax(dim=0)\n",
        "    self.relu=nn.ReLU()\n",
        "    self.lstm=nn.LSTM(input_size=2*hidden_size+input_size,hidden_size=hidden_size,num_layers=num_layers,dropout=0.5)\n",
        "    self.linear=nn.Linear(in_features=hidden_size,out_features=vocab_size)\n",
        "    self.dropout=nn.Dropout(p=0.5)\n",
        "    self.layer_norm=nn.LayerNorm(hidden_size)\n",
        "\n",
        "  def forward(self,word_idx,enc_states,hidden_state,cell_state):\n",
        "    #word_idx dim: (batch,)\n",
        "    #enc_states dim: (seq_len,batch,2*hidden_size)\n",
        "    #hidden_state/cell_state dim: (1,batch,hidden_size)\n",
        "\n",
        "    embedding=self.dropout(self.embed(word_idx.unsqueeze(0)))\n",
        "    #embeddingdim: (1,batch,input_size)\n",
        "\n",
        "    seq_length=enc_states.shape[0]\n",
        "    h_reshaped=hidden_state.repeat(seq_length,1,1)\n",
        "\n",
        "    energy=self.relu(self.energy(torch.cat((h_reshaped,enc_states),dim=2)))\n",
        "    #energy dim: (seq_len,batch,1)\n",
        "\n",
        "    attention=self.softmax(energy)\n",
        "    #attention dim (seq_len,batch,1)\n",
        "\n",
        "    attention=attention.permute(1,2,0)\n",
        "    #attention dim: (batch,1,seq_len)\n",
        "\n",
        "    enc_states=enc_states.permute(1,0,2)\n",
        "    #enc_states dim: (batch,seq_len,2*hidden_size)\n",
        "\n",
        "    context_vector=torch.bmm(attention,enc_states).permute(1,0,2)\n",
        "    #context_vector dim: (1,batch,2*hidden_size)\n",
        "\n",
        "    lstm_input=torch.cat((context_vector,embedding),dim=2)\n",
        "    #lstm_input dim: (1,batch,2*hidden_size+input_size)\n",
        "\n",
        "    output,(hidden_state,cell_state)=self.lstm(lstm_input,(hidden_state,cell_state))\n",
        "    #output dim: (1,batch,hidden_size)\n",
        "    #hidden_state/cell_state dim: (num_layers,batch,hidden_size)\n",
        "    output=self.layer_norm(output)\n",
        "    hidden_state=self.layer_norm(hidden_state)\n",
        "    cell_state=self.layer_norm(cell_state)\n",
        "\n",
        "    predicted_word=self.linear(output).squeeze(0)\n",
        "    #predicted_word dim: (batch,vocab_size)\n",
        "\n",
        "    #return hidden_state,cell_state\n",
        "    return predicted_word,hidden_state,cell_state"
      ],
      "metadata": {
        "id": "BQDvpWzu7Sot"
      },
      "execution_count": 10,
      "outputs": []
    },
    {
      "cell_type": "code",
      "source": [
        "class Seq2Seq(nn.Module):\n",
        "  def __init__(self,input_size,hidden_size,vocab_size_source,vocab_size_target,num_layers=1):\n",
        "    super(Seq2Seq,self).__init__()\n",
        "    self.encoder=EncoderRNN(input_size=input_size,hidden_size=hidden_size,vocab_size=vocab_size_source,num_layers=num_layers)\n",
        "    self.decoder=DecoderRNN(input_size=input_size,hidden_size=hidden_size,vocab_size=vocab_size_target,num_layers=num_layers)\n",
        "    self.vocab_size_source=vocab_size_source\n",
        "    self.vocab_size_target=vocab_size_target\n",
        "\n",
        "  def forward(self,source_sentences,target_sentences,teacher_forcer_ratio=0.5):\n",
        "    #source/target sentence dim: (seq_len,batch)\n",
        "\n",
        "    enc_states,hidden_state,cell_state=self.encoder(source_sentences)\n",
        "    #hidden_state/cell_state dim: (num_layers,batch,hidden_size)\n",
        "\n",
        "    target_len,batch_size=target_sentences.shape\n",
        "    outputs=torch.zeros(size=(target_len,batch_size,self.vocab_size_target))\n",
        "    input_word=target_sentences[0]\n",
        "    #input_word dim: (batch, )\n",
        "\n",
        "    for idx in range(1,target_len):\n",
        "      prediction,hidden_state,cell_state=self.decoder(input_word,enc_states,hidden_state,cell_state)\n",
        "      outputs[idx]=prediction\n",
        "\n",
        "      if random.random()<teacher_forcer_ratio:\n",
        "        input_word=target_sentences[idx]\n",
        "      else:\n",
        "        input_word=prediction.argmax(dim=1)\n",
        "\n",
        "    return outputs\n",
        "\n",
        "  def translate(self,source_sentence,vocab_target,device,max_len=50):\n",
        "    #source_sentence dim: (seq_len,)\n",
        "\n",
        "    enc_states,hidden_state,cell_state=self.encoder(source_sentence.unsqueeze(1).to(device))\n",
        "    #hidden_state/cell_state dim: (1,batch,hidden_size)\n",
        "\n",
        "    translated='<SOS> '\n",
        "    input_word=torch.tensor([source_sentence[0].item(),])\n",
        "    #input_word dim: (1,)\n",
        "\n",
        "    for pred in range(max_len):\n",
        "      prediction,hidden_state,cell_state=self.decoder(input_word.to(device),enc_states.to(device),hidden_state.to(device),cell_state.to(device))\n",
        "      #prediction dim: (1,vocab_size)\n",
        "\n",
        "      word_idx=prediction.argmax(dim=1)\n",
        "      #word_idx dim: (1,)\n",
        "\n",
        "      translated+=vocab_target[word_idx.item()]+' '\n",
        "\n",
        "      if vocab_target[word_idx.item()]=='<EOS>': break\n",
        "\n",
        "      input_word=torch.tensor([word_idx.item(),])\n",
        "\n",
        "    return translated[:-1]\n"
      ],
      "metadata": {
        "id": "BCnzB6lc7Sot"
      },
      "execution_count": 11,
      "outputs": []
    },
    {
      "cell_type": "markdown",
      "source": [
        "###Training"
      ],
      "metadata": {
        "id": "CmKNncaT7Sot"
      }
    },
    {
      "cell_type": "markdown",
      "source": [
        "Initialisation"
      ],
      "metadata": {
        "id": "3GZ6SfU97Sot"
      }
    },
    {
      "cell_type": "code",
      "source": [
        "device=torch.device('cuda' if torch.cuda.is_available() else 'cpu')\n",
        "\n",
        "#hyper-parameters\n",
        "num_epochs=100\n",
        "lr=3e-4\n",
        "batch_size=32\n",
        "#input size is embedding dimension\n",
        "input_size,hidden_size=300,1024\n",
        "num_samples=4032\n",
        "num_layers=1\n",
        "freq_threshold=4\n",
        "source_file='/content/drive/MyDrive/Seq2SeqModel/train.de'\n",
        "target_file='/content/drive/MyDrive/Seq2SeqModel/train.en'\n",
        "\n",
        "#dataset\n",
        "train_loader, dataset = get_loader(source_file=source_file,\n",
        "                                   target_file=target_file,\n",
        "                                   num_samples=num_samples,freq_threshold=freq_threshold,batch_size=batch_size,num_workers=8)\n",
        "\n",
        "#model\n",
        "min_loss=np.Inf\n",
        "save_path='/content/drive/MyDrive/Seq2SeqModel/model_attention_withLN'\n",
        "model=Seq2Seq(input_size=input_size,hidden_size=hidden_size,vocab_size_source=len(dataset.vocab.itos_source),vocab_size_target=len(dataset.vocab.itos_target),num_layers=num_layers).to(device)\n",
        "\n",
        "#min_loss=torch.load('/content/drive/MyDrive/Seq2SeqModel/model_attention_withLN.pth',map_location=device)['loss']\n",
        "#model.load_state_dict(torch.load('/content/drive/MyDrive/Seq2SeqModel/model_attention_withLN.pth',map_location=device)['model_state_dict'])\n",
        "optimizer=torch.optim.Adam(model.parameters(),lr=lr)\n",
        "criterion=nn.CrossEntropyLoss(ignore_index=dataset.vocab.stoi_target['<PAD>'])"
      ],
      "metadata": {
        "id": "Ju0pZ_6x7Sot",
        "colab": {
          "base_uri": "https://localhost:8080/"
        },
        "outputId": "ed896f4b-23b1-4a4a-9ef6-dff8d366c243"
      },
      "execution_count": 17,
      "outputs": [
        {
          "output_type": "stream",
          "name": "stderr",
          "text": [
            "/usr/local/lib/python3.11/dist-packages/torch/utils/data/dataloader.py:617: UserWarning: This DataLoader will create 8 worker processes in total. Our suggested max number of worker in current system is 2, which is smaller than what this DataLoader is going to create. Please be aware that excessive worker creation might get DataLoader running slow or even freeze, lower the worker number to avoid potential slowness/freeze if necessary.\n",
            "  warnings.warn(\n",
            "/usr/local/lib/python3.11/dist-packages/torch/nn/modules/rnn.py:123: UserWarning: dropout option adds dropout after all but last recurrent layer, so non-zero dropout expects num_layers greater than 1, but got dropout=0.5 and num_layers=1\n",
            "  warnings.warn(\n"
          ]
        }
      ]
    },
    {
      "cell_type": "code",
      "source": [
        "lr"
      ],
      "metadata": {
        "colab": {
          "base_uri": "https://localhost:8080/"
        },
        "outputId": "f0e0537b-9c6b-4c24-c1ec-7a1b72d98a50",
        "id": "xjN8Rvix7Sot"
      },
      "execution_count": null,
      "outputs": [
        {
          "output_type": "execute_result",
          "data": {
            "text/plain": [
              "0.0003"
            ]
          },
          "metadata": {},
          "execution_count": 17
        }
      ]
    },
    {
      "cell_type": "code",
      "source": [
        "min_loss"
      ],
      "metadata": {
        "colab": {
          "base_uri": "https://localhost:8080/"
        },
        "outputId": "c87ce9b8-892c-4fd0-e68c-759e32f5a19e",
        "id": "BN84SUw37Sot"
      },
      "execution_count": 18,
      "outputs": [
        {
          "output_type": "execute_result",
          "data": {
            "text/plain": [
              "inf"
            ]
          },
          "metadata": {},
          "execution_count": 18
        }
      ]
    },
    {
      "cell_type": "code",
      "source": [
        "#validation sentence\n",
        "chk_idx=random.randint(0,num_samples)\n",
        "print(f'Dataset Idx: {chk_idx}')\n",
        "source,target=dataset[chk_idx]\n",
        "\n",
        "validation_sentence_source=''\n",
        "for word_idx in source:\n",
        "  validation_sentence_source+=dataset.vocab.itos_source[word_idx.item()]+' '\n",
        "print(f'Source sentence: {validation_sentence_source[:-1]}')\n",
        "\n",
        "validation_sentence_target=''\n",
        "for word_idx in target:\n",
        "  validation_sentence_target+=dataset.vocab.itos_target[word_idx.item()]+' '\n",
        "print(f'Target sentence: {validation_sentence_target[:-1]}')"
      ],
      "metadata": {
        "colab": {
          "base_uri": "https://localhost:8080/"
        },
        "outputId": "42d57491-c4e4-4f60-eff7-eefbfdf2576c",
        "id": "WuESugLc7Sot"
      },
      "execution_count": 19,
      "outputs": [
        {
          "output_type": "stream",
          "name": "stdout",
          "text": [
            "Dataset Idx: 1763\n",
            "Source sentence: <SOS> ein mann mit blauen shirt und blauer kappe steht vor einem <UNK> cafe <UNK> <UNK> <EOS>\n",
            "Target sentence: <SOS> a young man is standing in front of the candy cafe with a small tree with pink flowers in the front of the building <UNK> <UNK> <EOS>\n"
          ]
        }
      ]
    },
    {
      "cell_type": "markdown",
      "source": [
        "Model Checkpoint"
      ],
      "metadata": {
        "id": "V1bKVDxG7Sou"
      }
    },
    {
      "cell_type": "code",
      "source": [
        "def save_checkpoint(epoch,model,loss,optimiser,path):\n",
        "  save_path=path+'.pth'\n",
        "  torch.save({\n",
        "      'epoch':epoch,\n",
        "      'model_state_dict':model.state_dict(),\n",
        "      'optimizer_state_dict':optimiser.state_dict(),\n",
        "      'loss':loss\n",
        "  },save_path)"
      ],
      "metadata": {
        "id": "8hMTaED17Sou"
      },
      "execution_count": 20,
      "outputs": []
    },
    {
      "cell_type": "code",
      "source": [
        "for batch_idx,(source,target) in enumerate(train_loader):\n",
        "  break"
      ],
      "metadata": {
        "colab": {
          "base_uri": "https://localhost:8080/"
        },
        "id": "X0kDc1kQv5ot",
        "outputId": "94ca8708-55f6-4a6d-bc7b-b1996f543145"
      },
      "execution_count": null,
      "outputs": [
        {
          "output_type": "stream",
          "name": "stderr",
          "text": [
            "/usr/local/lib/python3.10/dist-packages/torch/utils/data/dataloader.py:557: UserWarning: This DataLoader will create 8 worker processes in total. Our suggested max number of worker in current system is 2, which is smaller than what this DataLoader is going to create. Please be aware that excessive worker creation might get DataLoader running slow or even freeze, lower the worker number to avoid potential slowness/freeze if necessary.\n",
            "  warnings.warn(_create_warning_msg(\n",
            "/usr/lib/python3.10/multiprocessing/popen_fork.py:66: RuntimeWarning: os.fork() was called. os.fork() is incompatible with multithreaded code, and JAX is multithreaded, so this will likely lead to a deadlock.\n",
            "  self.pid = os.fork()\n"
          ]
        }
      ]
    },
    {
      "cell_type": "markdown",
      "source": [
        "Training Block"
      ],
      "metadata": {
        "id": "O2Uo3f8Q7Sou"
      }
    },
    {
      "cell_type": "code",
      "source": [
        "print(f'Actual sentence: {validation_sentence_target[:-1]}')\n",
        "initial_teacher_forcer_ratio = 0.7\n",
        "scheduled_sampling_decay = 0.01\n",
        "epoch_losses=[]\n",
        "model.train()\n",
        "num_batches=len(train_loader)\n",
        "for epoch in range(1,num_epochs+1):\n",
        "  batch_losses=[]\n",
        "  print(f'Epoch {epoch} begins:-\\n')\n",
        "  teacher_forcer_ratio = initial_teacher_forcer_ratio / (1 + scheduled_sampling_decay * epoch)\n",
        "  teacher_forcer_ratio = max(teacher_forcer_ratio, 0.0)\n",
        "  for batch_idx,(source_sentences,target_sentences) in enumerate(train_loader):\n",
        "    inputs=source_sentences.to(device)\n",
        "    targets=target_sentences.to(device)\n",
        "\n",
        "    outputs=model(inputs,targets,teacher_forcer_ratio=teacher_forcer_ratio).to(device)\n",
        "\n",
        "\n",
        "    optimizer.zero_grad()\n",
        "    loss=criterion(outputs[1:].reshape(-1,outputs.shape[2]),targets[1:].reshape(-1))\n",
        "\n",
        "    torch.nn.utils.clip_grad_norm_(model.parameters(),max_norm=1)\n",
        "    loss.backward()\n",
        "    optimizer.step()\n",
        "\n",
        "    batch_losses.append(loss.item())\n",
        "\n",
        "    if (batch_idx+1)%100==0:\n",
        "      print(f'Epoch {epoch}/{num_epochs}, Batch {batch_idx+1}/{num_batches}, Batch Loss: {batch_losses[-1]:.4f}')\n",
        "\n",
        "      with torch.no_grad():\n",
        "        translated_sentence=model.translate(source,dataset.vocab.itos_target,device)\n",
        "        print(f'Translated sentence: {translated_sentence}\\n')\n",
        "\n",
        "  epoch_losses.append(np.mean(batch_losses))\n",
        "  print(f'\\nEpoch {epoch}/{num_epochs}, Epoch Loss: {epoch_losses[-1]:.4f}')\n",
        "  current_epoch_loss=epoch_losses[-1]\n",
        "  if current_epoch_loss<min_loss:\n",
        "    print(f'Epoch Loss improved from {min_loss:.4f} to {current_epoch_loss:.4f}')\n",
        "    min_loss=current_epoch_loss\n",
        "    save_checkpoint(epoch,model,current_epoch_loss,optimizer,save_path)\n",
        "    print(f'Improved Model saved at \"{save_path}\"\\n')\n",
        "\n",
        "\n",
        "  print(f'Epoch {epoch} ends!!\\n\\n')"
      ],
      "metadata": {
        "colab": {
          "base_uri": "https://localhost:8080/"
        },
        "outputId": "f95b88eb-a81b-47ba-c13c-998c41a807d6",
        "id": "-awm-f7x7Sou"
      },
      "execution_count": null,
      "outputs": [
        {
          "output_type": "stream",
          "name": "stdout",
          "text": [
            "Actual sentence: <SOS> a young man is standing in front of the candy cafe with a small tree with pink flowers in the front of the building <UNK> <UNK> <EOS>\n",
            "Epoch 1 begins:-\n",
            "\n"
          ]
        }
      ]
    },
    {
      "cell_type": "code",
      "source": [
        "source_sentences.shape"
      ],
      "metadata": {
        "colab": {
          "base_uri": "https://localhost:8080/"
        },
        "id": "kCuuTJcyxdzr",
        "outputId": "c0f88d62-a642-48b7-a3a7-c5798b578b40"
      },
      "execution_count": null,
      "outputs": [
        {
          "output_type": "execute_result",
          "data": {
            "text/plain": [
              "torch.Size([19, 32])"
            ]
          },
          "metadata": {},
          "execution_count": 29
        }
      ]
    },
    {
      "cell_type": "markdown",
      "source": [
        "###Testing Arena"
      ],
      "metadata": {
        "id": "sei8H1jF7Sou"
      }
    },
    {
      "cell_type": "code",
      "source": [
        "print(f'Vocab size of source is: {len(dataset.vocab.itos_source)}, and that of target is: {len(dataset.vocab.itos_target)}')"
      ],
      "metadata": {
        "colab": {
          "base_uri": "https://localhost:8080/"
        },
        "outputId": "d8b4ecc6-5c9d-4f75-dbf9-a27f95ff39ca",
        "id": "G--pjlyf7Sou"
      },
      "execution_count": null,
      "outputs": [
        {
          "output_type": "stream",
          "name": "stdout",
          "text": [
            "Vocab size of source is: 1589, and that of target is: 2617\n"
          ]
        }
      ]
    },
    {
      "cell_type": "code",
      "source": [
        "num_chk_samples=30\n",
        "for sample in range(1,num_chk_samples+1):\n",
        "  idx=random.randint(0,num_samples)\n",
        "  print(f'Sample no. {sample}, Dataset Index {idx}:-')\n",
        "  validation_sentence_source,target=dataset[idx]\n",
        "  validation_sentence_target=''\n",
        "  for word in target:\n",
        "    validation_sentence_target+=dataset.vocab.itos_target[word.item()]+' '\n",
        "  validation_sentence_target=validation_sentence_target[:-1]\n",
        "  validation_sentence_output=model.translate(validation_sentence_source,dataset.vocab.itos_target,device)\n",
        "\n",
        "  print(f'Target Sentence: {validation_sentence_target}')\n",
        "  print(f'Translated Sentence: {validation_sentence_output}\\n\\n')"
      ],
      "metadata": {
        "colab": {
          "base_uri": "https://localhost:8080/"
        },
        "outputId": "67cb686d-6d9d-4e0b-b60f-012103979124",
        "id": "YuTa02Py7Sou"
      },
      "execution_count": null,
      "outputs": [
        {
          "output_type": "stream",
          "name": "stdout",
          "text": [
            "Sample no. 1, Dataset Index 1280:-\n",
            "Target Sentence: <SOS> cooks preparing a meal either at a restaurant or culinary school <UNK> <UNK> <EOS>\n",
            "Translated Sentence: <SOS> cooks preparing a meal either at a restaurant or culinary school <UNK> <UNK> <EOS>\n",
            "\n",
            "\n",
            "Sample no. 2, Dataset Index 1252:-\n",
            "Target Sentence: <SOS> a man in a white shirt and glasses is holding a glass containing a liquid <UNK> <UNK> <EOS>\n",
            "Translated Sentence: <SOS> a man in a white shirt and glasses is holding a glass containing a liquid <UNK> <UNK> <EOS>\n",
            "\n",
            "\n",
            "Sample no. 3, Dataset Index 513:-\n",
            "Target Sentence: <SOS> several children sit on a carnival ride in front of the face of a clown and several fake balloons <UNK> <UNK> <EOS>\n",
            "Translated Sentence: <SOS> a children sit on a carnival ride in front of the face of a clown and several fake balloons <UNK> <UNK> <EOS>\n",
            "\n",
            "\n",
            "Sample no. 4, Dataset Index 3944:-\n",
            "Target Sentence: <SOS> a little girl wearing a pink swimsuit and cap is laying by the edge of the water at the ocean <UNK> <UNK> <EOS>\n",
            "Translated Sentence: <SOS> a little girl wearing a pink swimsuit and cap is laying by the edge of the water at the ocean <UNK> <UNK> <EOS>\n",
            "\n",
            "\n",
            "Sample no. 5, Dataset Index 2876:-\n",
            "Target Sentence: <SOS> a woman is being seen by a <UNK> who is wearing a flower hair cap <UNK> <UNK> <EOS>\n",
            "Translated Sentence: <SOS> a woman is being seen by a <UNK> who is wearing a flower hair cap <UNK> <UNK> <EOS>\n",
            "\n",
            "\n",
            "Sample no. 6, Dataset Index 2499:-\n",
            "Target Sentence: <SOS> two females in black and gray looking up something on a computer <UNK> <UNK> <EOS>\n",
            "Translated Sentence: <SOS> two females in black and gray looking up something to a computer <UNK> <UNK> <EOS>\n",
            "\n",
            "\n",
            "Sample no. 7, Dataset Index 2028:-\n",
            "Target Sentence: <SOS> a group of indian people <UNK> one dressed in white and the other in red <UNK> are sitting on a rug <UNK> doing something with tea <UNK> <UNK> <EOS>\n",
            "Translated Sentence: <SOS> a group of indian people <UNK> one dressed in white and the other in red <UNK> are sitting on a rug <UNK> doing something <UNK> <UNK> <EOS>\n",
            "\n",
            "\n",
            "Sample no. 8, Dataset Index 1504:-\n",
            "Target Sentence: <SOS> four women wearing dressing and white hats walking along a beach <UNK> <UNK> <EOS>\n",
            "Translated Sentence: <SOS> four women wearing dressing and white hats walking along a beach <UNK> <UNK> <EOS>\n",
            "\n",
            "\n",
            "Sample no. 9, Dataset Index 254:-\n",
            "Target Sentence: <SOS> a man <UNK> while facing a woman wearing glasses as they sit inside a restaurant that includes a yellow wall <UNK> <UNK> <EOS>\n",
            "Translated Sentence: <SOS> a man <UNK> while facing a woman wearing glasses as they sit inside a restaurant that includes a yellow wall <UNK> <UNK> <EOS>\n",
            "\n",
            "\n",
            "Sample no. 10, Dataset Index 416:-\n",
            "Target Sentence: <SOS> a child <UNK> hitting a baseball into a net <UNK> while two adult men watch <UNK> <UNK> <EOS>\n",
            "Translated Sentence: <SOS> a child <UNK> hitting a baseball into a net <UNK> while two adult men watch <UNK> <UNK> <EOS>\n",
            "\n",
            "\n",
            "Sample no. 11, Dataset Index 3710:-\n",
            "Target Sentence: <SOS> people of all ages in hats are <UNK> attention to a person in a blue shirt <UNK> <UNK> <EOS>\n",
            "Translated Sentence: <SOS> people of all ages in hats are <UNK> attention to a person in a blue shirt <UNK> <UNK> <EOS>\n",
            "\n",
            "\n",
            "Sample no. 12, Dataset Index 3140:-\n",
            "Target Sentence: <SOS> the brown dog is performing a jump in an obstacle course <UNK> <UNK> <EOS>\n",
            "Translated Sentence: <SOS> the brown dog is performing a jump in an obstacle course <UNK> <UNK> <EOS>\n",
            "\n",
            "\n",
            "Sample no. 13, Dataset Index 440:-\n",
            "Target Sentence: <SOS> a barefoot young girl in a pink gown is asleep on a hard wood floor <UNK> her baby doll <UNK> <UNK> <EOS>\n",
            "Translated Sentence: <SOS> a barefoot young girl in a pink gown is asleep on a hard wood floor <UNK> her baby doll <UNK> <UNK> <EOS>\n",
            "\n",
            "\n",
            "Sample no. 14, Dataset Index 2678:-\n",
            "Target Sentence: <SOS> a shirtless <UNK> at work is viewed through the weather <UNK> of an <UNK> building <UNK> <UNK> <EOS>\n",
            "Translated Sentence: <SOS> a shirtless <UNK> at work is viewed through the weather <UNK> of an <UNK> building <UNK> <UNK> <EOS>\n",
            "\n",
            "\n",
            "Sample no. 15, Dataset Index 256:-\n",
            "Target Sentence: <SOS> a man shovels snow off of a roof while another stands in the contraption that <UNK> them to reach the high place <UNK> <UNK> <EOS>\n",
            "Translated Sentence: <SOS> a man shovels snow off of a roof while another stands in the contraption that <UNK> them to reach the high place <UNK> <UNK> <EOS>\n",
            "\n",
            "\n",
            "Sample no. 16, Dataset Index 2405:-\n",
            "Target Sentence: <SOS> three men with <UNK> on their clothing are <UNK> in the field <UNK> <UNK> <EOS>\n",
            "Translated Sentence: <SOS> three men with <UNK> on their clothing are <UNK> in the field <UNK> <UNK> <EOS>\n",
            "\n",
            "\n",
            "Sample no. 17, Dataset Index 3132:-\n",
            "Target Sentence: <SOS> a kid dressed in a long <UNK> sleeve shirt with a jersey numbered 11 is passing a bar to a boy in a jersey numbered 12 during a relay race <UNK> <UNK> <EOS>\n",
            "Translated Sentence: <SOS> a kid dressed in a long <UNK> sleeve shirt with a jersey numbered 11 is passing a bar to a boy in a jersey numbered 12 during a relay race <UNK> <EOS>\n",
            "\n",
            "\n",
            "Sample no. 18, Dataset Index 3439:-\n",
            "Target Sentence: <SOS> a man in a dark jacket with white gloves smokes a cigarette while working with a series of large copper wires <UNK> <UNK> <EOS>\n",
            "Translated Sentence: <SOS> a man in a dark jacket with white gloves smokes a cigarette while working with a series of large copper wires <UNK> <UNK> <EOS>\n",
            "\n",
            "\n",
            "Sample no. 19, Dataset Index 2822:-\n",
            "Target Sentence: <SOS> a person in a red shirt is standing <UNK> with arms raised <UNK> at the top of a mountain <UNK> <UNK> <EOS>\n",
            "Translated Sentence: <SOS> a person in a red shirt is standing <UNK> with arms raised <UNK> at the top of a mountain <UNK> <UNK> <EOS>\n",
            "\n",
            "\n",
            "Sample no. 20, Dataset Index 1165:-\n",
            "Target Sentence: <SOS> a woman in a black <UNK> robe is standing in a crowd <UNK> <UNK> <EOS>\n",
            "Translated Sentence: <SOS> a woman in a black <UNK> robe is standing in a crowd <UNK> <UNK> <EOS>\n",
            "\n",
            "\n",
            "Sample no. 21, Dataset Index 687:-\n",
            "Target Sentence: <SOS> a young boy wearing a <UNK> black and white shirt with his head <UNK> down <UNK> <EOS>\n",
            "Translated Sentence: <SOS> a child wearing a <UNK> is sitting on a red sled outside <UNK> a woman <UNK> <UNK> <EOS>\n",
            "\n",
            "\n",
            "Sample no. 22, Dataset Index 972:-\n",
            "Target Sentence: <SOS> a little blond girl holding a stick walks down a cement path in pink <UNK> <UNK> <UNK> <EOS>\n",
            "Translated Sentence: <SOS> a little blond girl holding a stick walks down a cement path in pink <UNK> <UNK> <UNK> <EOS>\n",
            "\n",
            "\n",
            "Sample no. 23, Dataset Index 3847:-\n",
            "Target Sentence: <SOS> an older man wearing a brown jacket and a hat stands outside and reaches into his pocket <UNK> <UNK> <EOS>\n",
            "Translated Sentence: <SOS> an older man wearing a brown jacket and a hat stands outside and reaches into his pocket <UNK> <UNK> <EOS>\n",
            "\n",
            "\n",
            "Sample no. 24, Dataset Index 2872:-\n",
            "Target Sentence: <SOS> a boy without a shirt is running in the street while several people stand behind him <UNK> <UNK> <EOS>\n",
            "Translated Sentence: <SOS> a boy without a shirt is running in the street while several people stand behind him <UNK> <UNK> <EOS>\n",
            "\n",
            "\n",
            "Sample no. 25, Dataset Index 2885:-\n",
            "Target Sentence: <SOS> a man in a white jacket is checking the blood pressure of a lady <UNK> <UNK> <EOS>\n",
            "Translated Sentence: <SOS> a man in a white jacket is checking the blood pressure of a lady <UNK> <UNK> <EOS>\n",
            "\n",
            "\n",
            "Sample no. 26, Dataset Index 2063:-\n",
            "Target Sentence: <SOS> only the letters <UNK> and <UNK> are <UNK> visible as the little boy in the red shirt leans out the window below <UNK> <UNK> <EOS>\n",
            "Translated Sentence: <SOS> only the letters <UNK> and <UNK> are <UNK> visible as the little boy in the red shirt leans out the window below <UNK> <UNK> <EOS>\n",
            "\n",
            "\n",
            "Sample no. 27, Dataset Index 1749:-\n",
            "Target Sentence: <SOS> a child lies on the ground near a ball in front of a parked car the leads a line of parked cars on the shoulder of a road <UNK> <UNK> <EOS>\n",
            "Translated Sentence: <SOS> a child lies on the ground near a ball in front of a parked car the leads a line of parked cars on the shoulder of a road <UNK> <UNK> <EOS>\n",
            "\n",
            "\n",
            "Sample no. 28, Dataset Index 3067:-\n",
            "Target Sentence: <SOS> a dark <UNK> haired dark <UNK> skinned child sleeps in a chair while holding a blue <UNK> pack <UNK> <UNK> <EOS>\n",
            "Translated Sentence: <SOS> a dark <UNK> haired dark <UNK> skinned child sleeps in a chair while holding a blue <UNK> pack <UNK> <UNK> <EOS>\n",
            "\n",
            "\n",
            "Sample no. 29, Dataset Index 2651:-\n",
            "Target Sentence: <SOS> these two young boys with blue and gray shorts <UNK> smile for the camera before they go play outside <UNK> <UNK> <EOS>\n",
            "Translated Sentence: <SOS> these two young boys with blue and gray a <UNK> smile for the camera before they go <UNK> <UNK> <EOS>\n",
            "\n",
            "\n",
            "Sample no. 30, Dataset Index 859:-\n",
            "Target Sentence: <SOS> two dogs playing in a <UNK> field filled with purple flowers <UNK> <EOS>\n",
            "Translated Sentence: <SOS> two dogs playing in a <UNK> field filled with purple flowers <UNK> <EOS>\n",
            "\n",
            "\n"
          ]
        }
      ]
    },
    {
      "cell_type": "code",
      "source": [
        "type(float)"
      ],
      "metadata": {
        "colab": {
          "base_uri": "https://localhost:8080/"
        },
        "outputId": "8d4226a9-531d-437b-9997-98c25a4d8c98",
        "id": "ZG4cXhmO7Sov"
      },
      "execution_count": null,
      "outputs": [
        {
          "output_type": "execute_result",
          "data": {
            "text/plain": [
              "type"
            ]
          },
          "metadata": {},
          "execution_count": 23
        }
      ]
    },
    {
      "cell_type": "code",
      "source": [
        "plt.plot([i for i in range(1,len(epoch_losses)+1)],epoch_losses)\n",
        "plt.xlabel('Epochs')\n",
        "plt.ylabel('Loss')\n",
        "plt.title('Loss vs Epochs')\n",
        "plt.show()"
      ],
      "metadata": {
        "id": "47rWMPMA7Sov",
        "colab": {
          "base_uri": "https://localhost:8080/",
          "height": 472
        },
        "outputId": "d80d6a2b-8642-43a9-c9ff-d2ec36b3b143"
      },
      "execution_count": null,
      "outputs": [
        {
          "output_type": "display_data",
          "data": {
            "text/plain": [
              "<Figure size 640x480 with 1 Axes>"
            ],
            "image/png": "[encoded data removed]"
          },
          "metadata": {}
        }
      ]
    },
    {
      "cell_type": "code",
      "source": [
        "target_sentence='a young boy fell into a pool of water'\n",
        "for word in [tok.text.lower() for tok in spacy_eng.tokenizer(target_sentence)]:\n",
        "  if word in dataset.vocab.stoi_target.keys(): print('1',end=' ')\n",
        "  else: print('0',end=' ')\n",
        "print()\n",
        "source_inp='Guten Abend'\n",
        "for word in [tok.text.lower() for tok in spacy_ger.tokenizer(source_inp)]:\n",
        "  if word in dataset.vocab.stoi_source.keys(): print('1',end=' ')\n",
        "  else: print('0',end=' ')"
      ],
      "metadata": {
        "colab": {
          "base_uri": "https://localhost:8080/"
        },
        "id": "A2HI73H_OvF1",
        "outputId": "6627c096-7415-47e6-b523-5e9163c002e6"
      },
      "execution_count": null,
      "outputs": [
        {
          "output_type": "stream",
          "name": "stdout",
          "text": [
            "1 1 1 1 1 1 1 1 1 \n",
            "0 0 "
          ]
        }
      ]
    },
    {
      "cell_type": "code",
      "source": [
        "source_word_idxs=[dataset.vocab.stoi_source['<SOS>'],]\n",
        "for word in [tok.text.lower() for tok in spacy_ger.tokenizer(source_inp)]:\n",
        "  #print(f'word: {word}')\n",
        "  if word in dataset.vocab.stoi_source.keys():\n",
        "    source_word_idxs.append(dataset.vocab.stoi_source[word])\n",
        "  else:\n",
        "    source_word_idxs.append(dataset.vocab.stoi_source['<UNK>'])\n",
        "source_word_idxs.append(dataset.vocab.stoi_source['<EOS>'])\n",
        "source_word_idxs=torch.tensor(source_word_idxs)\n",
        "\n",
        "translated_sentence=model.translate(source_word_idxs,dataset.vocab.itos_target,device)\n",
        "print(f'Target sentence: {target_sentence}')\n",
        "print(f'Translated sentence: {translated_sentence}')"
      ],
      "metadata": {
        "id": "d5H8FU2ZL1pP"
      },
      "execution_count": null,
      "outputs": []
    },
    {
      "cell_type": "code",
      "source": [
        "dataset.vocab.stoi_source['baden']"
      ],
      "metadata": {
        "colab": {
          "base_uri": "https://localhost:8080/"
        },
        "id": "qYz5BoH6N39-",
        "outputId": "a27156c6-67e3-47f4-a810-c901c85f5a95"
      },
      "execution_count": null,
      "outputs": [
        {
          "output_type": "execute_result",
          "data": {
            "text/plain": [
              "1462"
            ]
          },
          "metadata": {},
          "execution_count": 50
        }
      ]
    },
    {
      "cell_type": "code",
      "source": [
        "'sprang' in dataset.vocab.itos_source.values()"
      ],
      "metadata": {
        "colab": {
          "base_uri": "https://localhost:8080/"
        },
        "id": "6ERLRSgkOLuL",
        "outputId": "38a27098-f0af-4ffb-f2ce-b848ead0ea8f"
      },
      "execution_count": null,
      "outputs": [
        {
          "output_type": "execute_result",
          "data": {
            "text/plain": [
              "False"
            ]
          },
          "metadata": {},
          "execution_count": 53
        }
      ]
    }
  ]
}